{
  "nbformat": 4,
  "nbformat_minor": 0,
  "metadata": {
    "colab": {
      "provenance": [],
      "authorship_tag": "ABX9TyNYXccz8HUhcDPBKJgUmCFO"
    },
    "kernelspec": {
      "name": "python3",
      "display_name": "Python 3"
    },
    "language_info": {
      "name": "python"
    }
  },
  "cells": [
    {
      "cell_type": "markdown",
      "source": [
        "<a href=\"https://colab.research.google.com/github/LuisaFdaGomez/DGRED/blob/main/NoteBooks/Untitled13.ipynb\" target=\"_parent\"><img src=\"https://colab.research.google.com/assets/colab-badge.svg\" alt=\"Open in Colab\"/></a>"
      ],
      "metadata": {
        "id": "zJrBcS87Lv1Q"
      }
    },
    {
      "cell_type": "code",
      "execution_count": null,
      "metadata": {
        "id": "EowJfEWT5KKR"
      },
      "outputs": [],
      "source": [
        "from rarfile import RarFile\n",
        "with RarFile('test2.rar', 'r') as myrar:\n",
        "    file_names = myrar.namelist()\n",
        "    pass_file = list(filter(lambda k: 'pass' in k, l))[0]\n",
        "    pass = pass_file.split('-')[1].split('.')[0]\n",
        "    myrar.extractall(pwd=pass)"
      ]
    },
    {
      "cell_type": "markdown",
      "source": [],
      "metadata": {
        "id": "9sYZoDFkNoSB"
      }
    },
    {
      "cell_type": "code",
      "source": [],
      "metadata": {
        "id": "HrLj3fknXyii"
      },
      "execution_count": null,
      "outputs": []
    }
  ]
}